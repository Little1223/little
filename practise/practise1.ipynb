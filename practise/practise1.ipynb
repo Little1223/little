{
 "cells": [
  {
   "cell_type": "code",
   "execution_count": 3,
   "metadata": {},
   "outputs": [
    {
     "data": {
      "text/plain": [
       "(20, int, 2619353688976)"
      ]
     },
     "execution_count": 3,
     "metadata": {},
     "output_type": "execute_result"
    }
   ],
   "source": [
    "# 1. 請將下列物件 x 列出它的值, 資料類別, 記憶體位置\n",
    "x = 20\n",
    "x , type(x) , id(x)"
   ]
  },
  {
   "cell_type": "code",
   "execution_count": 2,
   "metadata": {},
   "outputs": [
    {
     "name": "stdout",
     "output_type": "stream",
     "text": [
      " Hello PythonHello PythonHello Python   2022 \n",
      "\n",
      " Hello PythonHello PythonHello Python   2022\n"
     ]
    }
   ],
   "source": [
    "# 2. 請利用 Python Print 'Hello Python'*3 的方式列印出下列文字\n",
    "\n",
    "# \" Hello PythonHello PythonHello Python   2022\"\n",
    "# 空一行\n",
    "# \" Hello PythonHello PythonHello Python   2022\"\n",
    "print(' '+'Hello Python'*3,' ', 2022, '\\n')\n",
    "print(' '+'Hello Python'*3,' ', 2022)"
   ]
  },
  {
   "cell_type": "code",
   "execution_count": 4,
   "metadata": {},
   "outputs": [
    {
     "name": "stdout",
     "output_type": "stream",
     "text": [
      "20.0\n",
      "3200000.0\n",
      "1788.8543819998317\n",
      "120.0\n",
      "<class 'str'>\n"
     ]
    }
   ],
   "source": [
    "# 3. 請利用 Python 執行下列需求\n",
    "\n",
    "# 將 a 變數物件參考到 120\n",
    "# 將 b 變數物件參考到 50.0\n",
    "# 將 c 變數物件參考到 'Hollo Python'\n",
    "\n",
    "# 讓 x 變數物件參考到 a 除以 b 的餘數,  列印出結果\n",
    "# 讓 y 變數物件參考到 x 的 5 次方,  列印出結果\n",
    "# 在讓 y 變數物件參考到 y 的開平方根  列印出 y 的結果\n",
    "\n",
    "# 將 a 變數物件 轉換成 浮點數\n",
    "# 將 a 變數物件 轉換成 文字\n",
    "# 將 c 變數物件 轉換成 整數 觀察會發生甚麼結果 ?\n",
    "\n",
    "a = 120 ; b = 50.0 ; c = 'Hello Python'\n",
    "x = a%b;   print(x)\n",
    "y = x**5;  print(y)\n",
    "y = y**.5; print(y)\n",
    "print(float(a))\n",
    "print(type(str(a)))"
   ]
  },
  {
   "cell_type": "code",
   "execution_count": 5,
   "metadata": {},
   "outputs": [
    {
     "name": "stdout",
     "output_type": "stream",
     "text": [
      "30\n",
      "40\n",
      "\n",
      "50\n",
      "60\n"
     ]
    }
   ],
   "source": [
    "# 4. 請利用 Python 指定運算子執行下列需求\n",
    "\n",
    "# 先將 a 變數物件參考到 20\n",
    "# 再將 a 變數物件參考到 a + 10   列印出結果\n",
    "# 再將 a 變數物件參考到 a + 10   列印出結果\n",
    "# 請利用 a+=10 方法再做一次\n",
    "\n",
    "\n",
    "a=20\n",
    "a=a+10; print(a)\n",
    "a=a+10; print(a)\n",
    "\n",
    "print()\n",
    "\n",
    "a+=10; print(a)\n",
    "a+=10; print(a)"
   ]
  },
  {
   "cell_type": "code",
   "execution_count": 6,
   "metadata": {},
   "outputs": [
    {
     "name": "stdout",
     "output_type": "stream",
     "text": [
      "<class 'int'> 120 2619353880656\n",
      "<class 'float'> 120.0 2619431875984\n",
      "<class 'str'> Hollo Python 2619432078960\n",
      "\n",
      "False\n",
      "True\n",
      "False\n"
     ]
    }
   ],
   "source": [
    "# 5.  請利用 Python 指令執行下列需求\n",
    "\n",
    "# 將 a 變數物件參考到 120\n",
    "# 將 b 變數物件參考到 120.0\n",
    "# 將 c 變數物件參考到 'Hollo Python'\n",
    "\n",
    "# 請列印出 a, b, c 三物件的 類型, 值 和 記憶體位置\n",
    "# 請利用 '== ' 檢視 a 和 b 物件的 類型 是否相等\n",
    "# 請利用 '== ' 檢視 a 和 b 物件的 值 是否相等\n",
    "# 請利用 '== ' 檢視 a 和 b 物件的 記憶體位置 是否相等\n",
    "\n",
    "\n",
    "a = 120 ; b = 120.0 ; c = 'Hollo Python'\n",
    "print( type(a) ,a, id(a))\n",
    "print( type(b) ,b, id(b))\n",
    "print( type(c) ,c, id(c))\n",
    "\n",
    "print()\n",
    "\n",
    "print(type(a)==type(b))\n",
    "print(a==b)\n",
    "print(id(a)==id(b))"
   ]
  },
  {
   "cell_type": "code",
   "execution_count": 7,
   "metadata": {},
   "outputs": [
    {
     "name": "stdout",
     "output_type": "stream",
     "text": [
      "0b10000000\n",
      "128 \n",
      "\n",
      "0o200\n",
      "128 \n",
      "\n",
      "0x80\n",
      "128\n"
     ]
    }
   ],
   "source": [
    "# 6.  請利用 Python 指令執行下列需求\n",
    "\n",
    "# 將 a 變數物件參考到 128\n",
    "# 將 a 變數物件分別轉換成 二, 八 , 十六進位\n",
    "# 再將 a 變數物件 二, 八 , 十六進位分別轉回 十進位\n",
    "\n",
    "\n",
    "a=128\n",
    "print(bin(a))\n",
    "print(int(bin(a), 2),'\\n')\n",
    "\n",
    "print(oct(a))\n",
    "print(int(oct(a), 8),'\\n')\n",
    "\n",
    "print(hex(a))\n",
    "print(int(hex(a), 16),)"
   ]
  },
  {
   "cell_type": "code",
   "execution_count": 8,
   "metadata": {},
   "outputs": [
    {
     "name": "stdout",
     "output_type": "stream",
     "text": [
      "98.60000000000001\n"
     ]
    }
   ],
   "source": [
    "# 7. 華氏 F = (攝氏 C )(9/5) + 32\n",
    "# 請將 攝氏 37 度轉換成 華氏\n",
    "\n",
    "\n",
    "\n",
    "c=37\n",
    "f=c*(9/5)+32\n",
    "print(f)"
   ]
  },
  {
   "cell_type": "code",
   "execution_count": 9,
   "metadata": {},
   "outputs": [
    {
     "name": "stdout",
     "output_type": "stream",
     "text": [
      "24.221453287197235 True\n"
     ]
    }
   ],
   "source": [
    "# 請計算 體重 70 公斤, 身高 1 公尺 70 公分 的 BMI, 並且判斷是否有大於 24 \n",
    "\n",
    "\n",
    "print(70/1.7**2, 70/1.7**2>24)"
   ]
  }
 ],
 "metadata": {
  "kernelspec": {
   "display_name": "py_39_cv",
   "language": "python",
   "name": "python3"
  },
  "language_info": {
   "codemirror_mode": {
    "name": "ipython",
    "version": 3
   },
   "file_extension": ".py",
   "mimetype": "text/x-python",
   "name": "python",
   "nbconvert_exporter": "python",
   "pygments_lexer": "ipython3",
   "version": "3.9.19"
  }
 },
 "nbformat": 4,
 "nbformat_minor": 2
}
